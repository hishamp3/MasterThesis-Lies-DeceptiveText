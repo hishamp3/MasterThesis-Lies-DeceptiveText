{
  "nbformat": 4,
  "nbformat_minor": 0,
  "metadata": {
    "colab": {
      "provenance": [],
      "authorship_tag": "ABX9TyPNlYcELi8Nh3pdmoVtmY5o",
      "include_colab_link": true
    },
    "kernelspec": {
      "name": "python3",
      "display_name": "Python 3"
    },
    "language_info": {
      "name": "python"
    }
  },
  "cells": [
    {
      "cell_type": "markdown",
      "metadata": {
        "id": "view-in-github",
        "colab_type": "text"
      },
      "source": [
        "<a href=\"https://colab.research.google.com/github/hishamp3/MasterThesis-Lies-DeceptiveText/blob/main/SVM_baseline.ipynb\" target=\"_parent\"><img src=\"https://colab.research.google.com/assets/colab-badge.svg\" alt=\"Open In Colab\"/></a>"
      ]
    },
    {
      "cell_type": "code",
      "execution_count": null,
      "metadata": {
        "id": "UqgRz2UB0v9L"
      },
      "outputs": [],
      "source": [
        "import numpy as np\n",
        "import pandas as pd\n",
        "import nltk\n",
        "from nltk.corpus import stopwords\n",
        "import matplotlib.pyplot as plt\n",
        "from nltk.stem import WordNetLemmatizer\n",
        "from sklearn.feature_extraction.text import CountVectorizer\n",
        "import pickle\n",
        "import time\n",
        "import re"
      ]
    },
    {
      "cell_type": "code",
      "source": [
        "import nltk\n",
        "nltk.download('stopwords')\n",
        "nltk.download('punkt')\n",
        "nltk.download('wordnet')"
      ],
      "metadata": {
        "id": "ngkUKZGu35uo",
        "colab": {
          "base_uri": "https://localhost:8080/"
        },
        "outputId": "27bb2ab4-229b-49f4-96a7-96df948cb5f4"
      },
      "execution_count": null,
      "outputs": [
        {
          "output_type": "stream",
          "name": "stderr",
          "text": [
            "[nltk_data] Downloading package stopwords to /root/nltk_data...\n",
            "[nltk_data]   Unzipping corpora/stopwords.zip.\n",
            "[nltk_data] Downloading package punkt to /root/nltk_data...\n",
            "[nltk_data]   Unzipping tokenizers/punkt.zip.\n",
            "[nltk_data] Downloading package wordnet to /root/nltk_data...\n"
          ]
        },
        {
          "output_type": "execute_result",
          "data": {
            "text/plain": [
              "True"
            ]
          },
          "metadata": {},
          "execution_count": 2
        }
      ]
    },
    {
      "cell_type": "code",
      "source": [
        "import pandas as pd\n",
        "df = pd.read_csv(\"./sample_data/fake reviews dataset.csv\",usecols=[\"text_\",\"label\"])"
      ],
      "metadata": {
        "id": "2-0rPISr2S3Q"
      },
      "execution_count": null,
      "outputs": []
    },
    {
      "cell_type": "code",
      "source": [
        "import re\n",
        "import string\n",
        "def clean_text(text):\n",
        "    # to lower case\n",
        "    text = text.lower()\n",
        "    # remove links\n",
        "    text = re.sub('https:\\/\\/\\S+', '', text)\n",
        "    # remove punctuation\n",
        "    text = re.sub('[%s]' % re.escape(string.punctuation), '', text)\n",
        "    # remove next line\n",
        "    text = re.sub(r'[^ \\w\\.]', '', text)\n",
        "    # remove words containing numbers\n",
        "    text = re.sub('\\w*\\d\\w*', '', text)\n",
        "\n",
        "    return text"
      ],
      "metadata": {
        "id": "7LDR8VFvFCLb"
      },
      "execution_count": null,
      "outputs": []
    },
    {
      "cell_type": "code",
      "source": [
        "df['text'] = df.text_.apply(lambda x: clean_text(x))"
      ],
      "metadata": {
        "id": "O2XzvzsmFJtm"
      },
      "execution_count": null,
      "outputs": []
    },
    {
      "cell_type": "code",
      "source": [
        "df['fake']=df['label'].apply(lambda x: 1 if x=='CG' else 0)"
      ],
      "metadata": {
        "id": "HgqBHH1t2wHN"
      },
      "execution_count": null,
      "outputs": []
    },
    {
      "cell_type": "code",
      "source": [
        "cleanedData = []\n",
        "\n",
        "lemma = WordNetLemmatizer()\n",
        "swords = stopwords.words(\"english\")\n",
        "for text in df[\"text\"]:\n",
        "\n",
        "    # Cleaning links\n",
        "    text = re.sub(r'http\\S+', '', text)\n",
        "\n",
        "    # Cleaning everything except alphabetical and numerical characters\n",
        "    text = re.sub(\"[^a-zA-Z0-9]\",\" \",text)\n",
        "\n",
        "    # Tokenizing and lemmatizing\n",
        "    text = nltk.word_tokenize(text.lower())\n",
        "    text = [lemma.lemmatize(word) for word in text]\n",
        "\n",
        "    # Removing stopwords\n",
        "    text = [word for word in text if word not in swords]\n",
        "\n",
        "    # Joining\n",
        "    text = \" \".join(text)\n",
        "\n",
        "    cleanedData.append(text)"
      ],
      "metadata": {
        "id": "CYXRUWZr3qA-"
      },
      "execution_count": null,
      "outputs": []
    },
    {
      "cell_type": "code",
      "source": [
        "for i in range(0,5):\n",
        "    print(cleanedData[i],end=\"\\n\\n\")"
      ],
      "metadata": {
        "id": "p_YjDoPq4dp_",
        "colab": {
          "base_uri": "https://localhost:8080/"
        },
        "outputId": "dc5c077f-49ab-40b8-c423-fc5cbfbd76c4"
      },
      "execution_count": null,
      "outputs": [
        {
          "output_type": "stream",
          "name": "stdout",
          "text": [
            "love well made sturdy comfortable love itvery pretty\n",
            "\n",
            "love great upgrade original ive mine couple year\n",
            "\n",
            "pillow saved back love look feel pillow\n",
            "\n",
            "missing information use great product price\n",
            "\n",
            "nice set good quality set two month\n",
            "\n"
          ]
        }
      ]
    },
    {
      "cell_type": "code",
      "source": [
        "vectorizer = CountVectorizer(max_features=10000)\n",
        "BOW = vectorizer.fit_transform(cleanedData)"
      ],
      "metadata": {
        "id": "yx4lDwo54h7m"
      },
      "execution_count": null,
      "outputs": []
    },
    {
      "cell_type": "code",
      "source": [
        "from sklearn.model_selection import train_test_split\n",
        "x_train,x_test,y_train,y_test = train_test_split(BOW,np.asarray(df[\"fake\"]))"
      ],
      "metadata": {
        "id": "S9-L70TM2zF-"
      },
      "execution_count": null,
      "outputs": []
    },
    {
      "cell_type": "code",
      "source": [
        "print(x_train.shape)\n",
        "print(x_test.shape)\n",
        "print(y_train.shape)\n",
        "print(y_test.shape)"
      ],
      "metadata": {
        "colab": {
          "base_uri": "https://localhost:8080/"
        },
        "id": "SMYW-OXr5rsh",
        "outputId": "e3b4a9c9-ec93-454e-d868-dffe90ded0fb"
      },
      "execution_count": null,
      "outputs": [
        {
          "output_type": "stream",
          "name": "stdout",
          "text": [
            "(30324, 10000)\n",
            "(10108, 10000)\n",
            "(30324,)\n",
            "(10108,)\n"
          ]
        }
      ]
    },
    {
      "cell_type": "code",
      "source": [
        "from sklearn.svm import SVC\n",
        "start_time = time.time()\n",
        "\n",
        "model = SVC(kernel='linear')\n",
        "model.fit(x_train,y_train)\n",
        "\n",
        "end_time = time.time()\n",
        "process_time = round(end_time-start_time,2)\n",
        "print(\"Fitting SVC took {} seconds\".format(process_time))"
      ],
      "metadata": {
        "colab": {
          "base_uri": "https://localhost:8080/"
        },
        "id": "Bjzv6nXa5x1x",
        "outputId": "21203bd6-e7fc-4aaa-d8dd-3701cc9aa593"
      },
      "execution_count": null,
      "outputs": [
        {
          "output_type": "stream",
          "name": "stdout",
          "text": [
            "Fitting SVC took 559.73 seconds\n"
          ]
        }
      ]
    },
    {
      "cell_type": "code",
      "source": [
        "predictions = model.predict(x_test)"
      ],
      "metadata": {
        "id": "pPISIjVl56GH"
      },
      "execution_count": null,
      "outputs": []
    },
    {
      "cell_type": "code",
      "source": [
        "from sklearn.metrics import accuracy_score,confusion_matrix\n",
        "\n",
        "print(\"Accuracy of model is {}%\".format(accuracy_score(y_test,predictions) * 100))"
      ],
      "metadata": {
        "colab": {
          "base_uri": "https://localhost:8080/"
        },
        "id": "HUqa6YWE58FR",
        "outputId": "6f319fe4-fb39-4f95-aa62-2604e4122a30"
      },
      "execution_count": null,
      "outputs": [
        {
          "output_type": "stream",
          "name": "stdout",
          "text": [
            "Accuracy of model is 86.57499010684606%\n"
          ]
        }
      ]
    }
  ]
}